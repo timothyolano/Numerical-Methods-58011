{
  "nbformat": 4,
  "nbformat_minor": 0,
  "metadata": {
    "colab": {
      "name": "Control and Loop Statements.ipynb",
      "provenance": [],
      "authorship_tag": "ABX9TyNZ3UGjZn/nKxlwMTWsPvU9",
      "include_colab_link": true
    },
    "kernelspec": {
      "name": "python3",
      "display_name": "Python 3"
    },
    "language_info": {
      "name": "python"
    }
  },
  "cells": [
    {
      "cell_type": "markdown",
      "metadata": {
        "id": "view-in-github",
        "colab_type": "text"
      },
      "source": [
        "<a href=\"https://colab.research.google.com/github/timothyolano/Numerical-Methods-58011/blob/main/Control_and_Loop_Statements.ipynb\" target=\"_parent\"><img src=\"https://colab.research.google.com/assets/colab-badge.svg\" alt=\"Open In Colab\"/></a>"
      ]
    },
    {
      "cell_type": "code",
      "execution_count": 1,
      "metadata": {
        "id": "CQTto6mMte7M",
        "colab": {
          "base_uri": "https://localhost:8080/"
        },
        "outputId": "4c0451ef-aa23-445d-af6b-4cc017d96d5d"
      },
      "outputs": [
        {
          "output_type": "stream",
          "name": "stdout",
          "text": [
            "b is greater than A\n"
          ]
        }
      ],
      "source": [
        "a = 12\n",
        "b = 100\n",
        "\n",
        "if b>a:\n",
        "  print(\"b is greater than A\")"
      ]
    },
    {
      "cell_type": "code",
      "source": [
        "if b>a:\n",
        "  print(\"B is greater than A\")\n",
        "elif a>b:\n",
        "  print(\"a is greateer than B\")"
      ],
      "metadata": {
        "id": "Hgm2boSiuuL2"
      },
      "execution_count": null,
      "outputs": []
    },
    {
      "cell_type": "code",
      "source": [
        "a = 100\n",
        "b = 100\n",
        "\n",
        "if b>a:\n",
        "  print(\"B is greater than A\")\n",
        "elif a>b:\n",
        "  print(\"a is greateer than B\")\n",
        "else:\n",
        "  print(\"A is equal to B\")"
      ],
      "metadata": {
        "id": "RByWkDcquvcQ"
      },
      "execution_count": null,
      "outputs": []
    },
    {
      "cell_type": "code",
      "source": [
        "a=12\n",
        "b=100\n",
        "if b>a: print(\"b is greater than a\")"
      ],
      "metadata": {
        "id": "8LAgioS7wwrl"
      },
      "execution_count": null,
      "outputs": []
    },
    {
      "cell_type": "code",
      "source": [
        "c=35\n",
        "d=40\n",
        "\n",
        "print(\"c is greater than d\") if c>d else print(\"d is greater than c\")"
      ],
      "metadata": {
        "id": "UrdkpL_5wyDv"
      },
      "execution_count": null,
      "outputs": []
    },
    {
      "cell_type": "code",
      "source": [
        "c=35\n",
        "d=40\n",
        "e=30\n",
        "\n",
        "if d>c and c>e:\n",
        "  print(\"Both condtions must be True\")"
      ],
      "metadata": {
        "id": "ZfWW8f0hswgv"
      },
      "execution_count": null,
      "outputs": []
    },
    {
      "cell_type": "code",
      "source": [
        "if d>c or e>c:\n",
        "  print(\"If one of the two operands is True\")"
      ],
      "metadata": {
        "id": "_1C4cV-IsyMo"
      },
      "execution_count": null,
      "outputs": []
    },
    {
      "cell_type": "code",
      "source": [
        "x=int(input())\n",
        "\n",
        "if x>10:\n",
        "  print(\"x is above 10\")\n",
        "  if x>20:\n",
        "   print(\"x is above 20\")\n",
        "  if x>30:\n",
        "    print(\"x is above 30\")\n",
        "    if x>40:\n",
        "      print(\"x is above 40\")\n",
        "    else:\n",
        "       print(\"x is not above 40\")\n",
        "  else:\n",
        "      print(\"x is not above 30\")  \n",
        "else:\n",
        "  print(\"x is not above 20.\")"
      ],
      "metadata": {
        "id": "783dxx6xs3fK"
      },
      "execution_count": null,
      "outputs": []
    },
    {
      "cell_type": "code",
      "source": [
        "age= int(input())\n",
        "if age>=18:\n",
        "  print(\"you are qualified to vote\")\n",
        "else:\n",
        "  print(\"You are not qualified to vote\")"
      ],
      "metadata": {
        "id": "cBfCZpKjtMeN"
      },
      "execution_count": null,
      "outputs": []
    },
    {
      "cell_type": "code",
      "source": [
        "input_number = int(input())\n",
        "\n",
        "if input_number > 0:\n",
        "  print('The number is positive.')\n",
        "elif input_number < 0:\n",
        "  print('The number is negative.')\n",
        "else:\n",
        "  print('The number is zero.')"
      ],
      "metadata": {
        "id": "-FYVSgoKtN8P"
      },
      "execution_count": null,
      "outputs": []
    },
    {
      "cell_type": "code",
      "source": [
        "week = [\"Sunday\",\"Monday\",\"Tueday\",\"Wednesday\",\"Thursday\",\"Friday\",\"Satudarday\"]\n",
        "for x in week:\n",
        "  print(x)"
      ],
      "metadata": {
        "id": "oXie0VD7tPZs"
      },
      "execution_count": null,
      "outputs": []
    },
    {
      "cell_type": "code",
      "source": [
        "week= [\"Sunday\", \"Monday\", \"Tuesday\", \"Wednesday\", \"Thursday\", \"Friday\", \"Saturday\"]\n",
        "\n",
        "for x in week:\n",
        "  print(x)\n",
        "\n",
        "  if x==\"Thursday\":\n",
        "    break"
      ],
      "metadata": {
        "id": "isJeWfdttR9J"
      },
      "execution_count": null,
      "outputs": []
    },
    {
      "cell_type": "code",
      "source": [
        "y=3\n",
        "\n",
        "while y<6:\n",
        "  print(y)\n",
        "  y==3\n",
        "  break\n",
        "  y+=1"
      ],
      "metadata": {
        "id": "OO0RgIqDtUam"
      },
      "execution_count": null,
      "outputs": []
    }
  ]
}